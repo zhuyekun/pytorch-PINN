{
 "cells": [
  {
   "cell_type": "code",
   "execution_count": 36,
   "metadata": {},
   "outputs": [
    {
     "name": "stdout",
     "output_type": "stream",
     "text": [
      "The autoreload extension is already loaded. To reload it, use:\n",
      "  %reload_ext autoreload\n"
     ]
    }
   ],
   "source": [
    "import torch \n",
    "import sys\n",
    "sys.path.append('..')\n",
    "\n",
    "%load_ext autoreload\n",
    "%autoreload 2\n",
    "\n",
    "from src.config import get_config\n",
    "from src.dataset import DataGenerator1D\n",
    "from src.equation import BoundaryCondition, Burgers1D, InitialCondition\n",
    "from src.geometry import Rectangle1D\n",
    "from src.models import Mlp, ResNet"
   ]
  },
  {
   "cell_type": "code",
   "execution_count": 55,
   "metadata": {},
   "outputs": [],
   "source": [
    "config = get_config()\n",
    "\n",
    "device = \"cuda\" if torch.cuda.is_available() else \"cpu\"\n",
    "\n",
    "# Data pipeline\n",
    "cfg_data = config.data_config\n",
    "dataset = DataGenerator1D(cfg_data.sample_config)\n",
    "dataloader = torch.utils.data.DataLoader(\n",
    "    dataset,\n",
    "    batch_size=None,\n",
    "    num_workers=1,\n",
    ")\n",
    "\n",
    "# Constraints and equation\n",
    "bc = BoundaryCondition()\n",
    "ic = InitialCondition()\n",
    "eq = Burgers1D(cfg_data.nu)\n",
    "\n",
    "# Model\n",
    "cfg_model = config.model_config\n",
    "model = Mlp(cfg_model.units, activation=torch.nn.Tanh)\n",
    "model = model.to(device)\n",
    "model.train()\n",
    "\n",
    "def u_sol(t, x):\n",
    "    u = model(torch.cat([t[:, None], x[:, None]], dim=-1))\n",
    "    return u.squeeze()\n",
    "\n",
    "loss_weights = config.train_config.loss_weight\n",
    "def loss(fn, inputs):\n",
    "    u = {k: fn(**v) for k, v in inputs.items()}\n",
    "    # loss_list = [\n",
    "    #     bc.loss(u[\"boundary\"], **inputs[\"boundary\"]),\n",
    "    #     ic.loss(u[\"initial\"], **inputs[\"initial\"]),\n",
    "    #     eq.loss(u[\"interior\"], **inputs[\"interior\"]),\n",
    "    # ]\n",
    "    loss_dict = {\n",
    "        \"boundary\": bc.loss(u[\"boundary\"], **inputs[\"boundary\"]),\n",
    "        \"initial\": ic.loss(u[\"initial\"], **inputs[\"initial\"]),\n",
    "        \"interior\": eq.loss(u[\"interior\"], **inputs[\"interior\"]),\n",
    "    }\n",
    "    total_loss = sum([loss_dict[k]*loss_weights[k] for k in loss_dict.keys()])\n",
    "\n",
    "    return total_loss, loss_dict\n"
   ]
  },
  {
   "cell_type": "code",
   "execution_count": 56,
   "metadata": {},
   "outputs": [],
   "source": [
    "def set_requires_grad(tensor_dict, requires_grad=True, device=\"cuda\"):\n",
    "    \"\"\"\n",
    "    Set the requires_grad attribute of all tensors in a nested dictionary.\n",
    "\n",
    "    Args:\n",
    "        tensor_dict (dict): A nested dictionary containing tensors.\n",
    "        requires_grad (bool): Whether to require gradient computation or not.\n",
    "        device (str): The device to move tensors to.\n",
    "    \"\"\"\n",
    "    _tensor_dict = {}\n",
    "    for k, v in tensor_dict.items():\n",
    "        if isinstance(v, dict):\n",
    "            _tensor_dict[k] = set_requires_grad(v, requires_grad, device=device)\n",
    "        else:\n",
    "            _tensor_dict[k] = v.clone().detach().requires_grad_(True).to(device)\n",
    "            # print(f\"Set {k} to require gradient: {v.requires_grad}\")\n",
    "    del tensor_dict\n",
    "    return _tensor_dict"
   ]
  },
  {
   "cell_type": "code",
   "execution_count": 57,
   "metadata": {},
   "outputs": [],
   "source": [
    "batch = next(iter(dataloader))"
   ]
  },
  {
   "cell_type": "code",
   "execution_count": 58,
   "metadata": {},
   "outputs": [],
   "source": [
    "b = set_requires_grad(batch, device=\"cuda\")"
   ]
  },
  {
   "cell_type": "code",
   "execution_count": 59,
   "metadata": {},
   "outputs": [
    {
     "data": {
      "text/plain": [
       "device(type='cuda', index=0)"
      ]
     },
     "execution_count": 59,
     "metadata": {},
     "output_type": "execute_result"
    }
   ],
   "source": [
    "b[\"boundary\"][\"t\"].device"
   ]
  },
  {
   "cell_type": "code",
   "execution_count": 60,
   "metadata": {},
   "outputs": [
    {
     "name": "stdout",
     "output_type": "stream",
     "text": [
      "torch.Size([3000])\n"
     ]
    },
    {
     "data": {
      "text/plain": [
       "(tensor(0.5364, device='cuda:0', grad_fn=<AddBackward0>),\n",
       " {'boundary': tensor(0.0001, device='cuda:0', grad_fn=<MeanBackward0>),\n",
       "  'initial': tensor(0.5362, device='cuda:0', grad_fn=<MeanBackward0>),\n",
       "  'interior': tensor(0.0001, device='cuda:0', grad_fn=<MeanBackward0>)})"
      ]
     },
     "execution_count": 60,
     "metadata": {},
     "output_type": "execute_result"
    }
   ],
   "source": [
    "loss(u_sol,b)"
   ]
  },
  {
   "cell_type": "code",
   "execution_count": null,
   "metadata": {},
   "outputs": [],
   "source": [
    "# Optimizer\n",
    "cfg_train = config.train_config\n",
    "optimizer = torch.optim.Adam(\n",
    "    model.parameters(),\n",
    "    lr=cfg_train.lr,\n",
    "    weight_decay=cfg_train.weight_decay,\n",
    ")\n",
    "\n",
    "loader = iter(dataloader)\n",
    "\n",
    "for i in range(100):\n",
    "    inputs = set_requires_grad(next(loader))\n",
    "\n",
    "    optimizer.zero_grad()\n",
    "    _loss, loss_dict = loss(u_sol, inputs)\n",
    "    _loss.backward()\n",
    "    optimizer.step()\n",
    "\n",
    "    if i % 1 == 0:\n",
    "        _loss_dict = {k: v.item() for k,v in loss_dict.items()}\n",
    "        print(f\"Step {i}, total loss {_loss.item():.4f}, loss_dict {_loss_dict}\")\n"
   ]
  },
  {
   "cell_type": "code",
   "execution_count": 235,
   "metadata": {},
   "outputs": [
    {
     "data": {
      "text/plain": [
       "{'boundary': tensor(0., device='cuda:0', grad_fn=<MeanBackward0>),\n",
       " 'initial': tensor(0.5022, device='cuda:0', grad_fn=<MeanBackward0>),\n",
       " 'interior': tensor(0., device='cuda:0', grad_fn=<MeanBackward0>)}"
      ]
     },
     "execution_count": 235,
     "metadata": {},
     "output_type": "execute_result"
    }
   ],
   "source": [
    "loss_dict"
   ]
  },
  {
   "cell_type": "code",
   "execution_count": null,
   "metadata": {},
   "outputs": [],
   "source": []
  }
 ],
 "metadata": {
  "kernelspec": {
   "display_name": "Python 3",
   "language": "python",
   "name": "python3"
  },
  "language_info": {
   "codemirror_mode": {
    "name": "ipython",
    "version": 3
   },
   "file_extension": ".py",
   "mimetype": "text/x-python",
   "name": "python",
   "nbconvert_exporter": "python",
   "pygments_lexer": "ipython3",
   "version": "3.11.4"
  },
  "orig_nbformat": 4
 },
 "nbformat": 4,
 "nbformat_minor": 2
}
