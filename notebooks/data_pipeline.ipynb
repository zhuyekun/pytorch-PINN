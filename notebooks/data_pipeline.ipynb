{
 "cells": [
  {
   "cell_type": "code",
   "execution_count": 1,
   "metadata": {},
   "outputs": [],
   "source": [
    "import sys\n",
    "sys.path.append('../')\n",
    "from src.geometry import Rectangle1D, cartesian_product\n",
    "import numpy as np\n",
    "%load_ext autoreload\n",
    "%autoreload 2\n",
    "import torch"
   ]
  },
  {
   "cell_type": "code",
   "execution_count": 2,
   "metadata": {},
   "outputs": [],
   "source": [
    "# def sampler():\n",
    "#     domain_x = Rectangle1D(min=-1, max=1)\n",
    "#     domain_t = Rectangle1D(min=0, max=1)\n",
    "\n",
    "#     while True:\n",
    "#         np_dict = {\n",
    "#             \"interior\": cartesian_product(\n",
    "#                 domain_t.sample_interior(num_samples=10),\n",
    "#                 domain_x.sample_interior(num_samples=100),\n",
    "#             ),\n",
    "#             \"boundary\": cartesian_product(\n",
    "#                 domain_t.sample_interior(num_samples=10),\n",
    "#                 domain_x.sample_boundary(num_samples=1),\n",
    "#             ),\n",
    "#             \"initial\": cartesian_product(\n",
    "#                 np.array([0]), domain_x.sample_interior(num_samples=100)\n",
    "#             ),\n",
    "#         }\n",
    "#         np_dict = {k: np.reshape(v, (-1, 2)) for k, v in np_dict.items()}\n",
    "#         torch_dict = {\n",
    "#             k: torch.tensor(v, requires_grad=True) for k, v in np_dict.items()\n",
    "#         }\n",
    "\n",
    "#         yield torch_dict"
   ]
  },
  {
   "cell_type": "code",
   "execution_count": 4,
   "metadata": {},
   "outputs": [],
   "source": [
    "from torch.utils.data import IterableDataset\n",
    "\n",
    "class DataGenerator1D(IterableDataset):\n",
    "    def __init__(self, domain_x, domain_t):\n",
    "        self.domain_x = domain_x\n",
    "        self.domain_t = domain_t\n",
    "\n",
    "    def __iter__(self):\n",
    "        return self\n",
    "\n",
    "    def __next__(self):\n",
    "        np_dict = {\n",
    "            \"interior\": cartesian_product(\n",
    "                self.domain_t.sample_interior(num_samples=10),\n",
    "                self.domain_x.sample_interior(num_samples=100),\n",
    "            ),\n",
    "            \"boundary\": cartesian_product(\n",
    "                self.domain_t.sample_interior(num_samples=10),\n",
    "                self.domain_x.sample_boundary(num_samples=1),\n",
    "            ),\n",
    "            \"initial\": cartesian_product(\n",
    "                np.array([0]), self.domain_x.sample_interior(num_samples=100)\n",
    "            ),\n",
    "        }\n",
    "        np_dict = {k: np.reshape(v, (-1, 2)) for k, v in np_dict.items()}\n",
    "        torch_dict = {\n",
    "            k: torch.tensor(v, requires_grad=True) for k, v in np_dict.items()\n",
    "        }\n",
    "        return torch_dict"
   ]
  },
  {
   "cell_type": "code",
   "execution_count": 5,
   "metadata": {},
   "outputs": [],
   "source": [
    "sampler = DataGenerator1D(domain_x=Rectangle1D(min=-1, max=1), domain_t=Rectangle1D(min=0, max=1))"
   ]
  },
  {
   "cell_type": "code",
   "execution_count": 6,
   "metadata": {},
   "outputs": [],
   "source": [
    "torch_dict = next(sampler)"
   ]
  },
  {
   "cell_type": "code",
   "execution_count": 7,
   "metadata": {},
   "outputs": [
    {
     "name": "stdout",
     "output_type": "stream",
     "text": [
      "interior torch.Size([1000, 2])\n",
      "boundary torch.Size([10, 2])\n",
      "initial torch.Size([100, 2])\n"
     ]
    }
   ],
   "source": [
    "for k, v in torch_dict.items():\n",
    "    print(k, v.shape)"
   ]
  },
  {
   "cell_type": "code",
   "execution_count": 17,
   "metadata": {},
   "outputs": [],
   "source": [
    "from torch.utils.data import DataLoader\n",
    "\n",
    "dataloader = DataLoader(\n",
    "    sampler,\n",
    "    batch_size = None,\n",
    "    pin_memory=True,\n",
    "    num_workers=1,\n",
    "    )"
   ]
  },
  {
   "cell_type": "code",
   "execution_count": 18,
   "metadata": {},
   "outputs": [],
   "source": [
    "batch = next(iter(dataloader))"
   ]
  },
  {
   "cell_type": "code",
   "execution_count": 19,
   "metadata": {},
   "outputs": [
    {
     "name": "stdout",
     "output_type": "stream",
     "text": [
      "interior torch.Size([1000, 2])\n",
      "boundary torch.Size([10, 2])\n",
      "initial torch.Size([100, 2])\n"
     ]
    }
   ],
   "source": [
    "for k, v in batch.items():\n",
    "    print(k, v.shape)"
   ]
  },
  {
   "cell_type": "code",
   "execution_count": null,
   "metadata": {},
   "outputs": [],
   "source": []
  }
 ],
 "metadata": {
  "kernelspec": {
   "display_name": "Python 3",
   "language": "python",
   "name": "python3"
  },
  "language_info": {
   "codemirror_mode": {
    "name": "ipython",
    "version": 3
   },
   "file_extension": ".py",
   "mimetype": "text/x-python",
   "name": "python",
   "nbconvert_exporter": "python",
   "pygments_lexer": "ipython3",
   "version": "3.11.4"
  },
  "orig_nbformat": 4
 },
 "nbformat": 4,
 "nbformat_minor": 2
}
