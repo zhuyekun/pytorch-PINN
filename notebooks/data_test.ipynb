{
 "cells": [
  {
   "cell_type": "code",
   "execution_count": 32,
   "metadata": {},
   "outputs": [],
   "source": [
    "import sys\n",
    "sys.path.append('../')\n",
    "\n",
    "from src.dataset import DataGenerator1D\n",
    "from src.config import config\n",
    "from torch.utils.data import DataLoader"
   ]
  },
  {
   "cell_type": "code",
   "execution_count": 29,
   "metadata": {},
   "outputs": [],
   "source": [
    "config = config()"
   ]
  },
  {
   "cell_type": "code",
   "execution_count": 30,
   "metadata": {},
   "outputs": [],
   "source": [
    "dataset = DataGenerator1D(sample_cfg=config.data_config)"
   ]
  },
  {
   "cell_type": "code",
   "execution_count": 35,
   "metadata": {},
   "outputs": [],
   "source": [
    "dataloader = DataLoader(dataset, batch_size=None, num_workers=1)"
   ]
  },
  {
   "cell_type": "code",
   "execution_count": 50,
   "metadata": {},
   "outputs": [
    {
     "name": "stdout",
     "output_type": "stream",
     "text": [
      "interior torch.Size([10000, 2])\n",
      "boundary torch.Size([100, 2])\n",
      "initial torch.Size([200, 2])\n"
     ]
    }
   ],
   "source": [
    "_iter = iter(dataloader)\n",
    "batch = next(_iter)\n",
    "for k, v in batch.items():\n",
    "    print(k, v.shape)"
   ]
  },
  {
   "cell_type": "code",
   "execution_count": 56,
   "metadata": {},
   "outputs": [
    {
     "data": {
      "text/plain": [
       "tensor([[ 0.5217,  1.0000],\n",
       "        [ 0.5217, -1.0000],\n",
       "        [ 0.4312,  1.0000],\n",
       "        [ 0.4312, -1.0000],\n",
       "        [ 0.5982,  1.0000],\n",
       "        [ 0.5982, -1.0000],\n",
       "        [ 0.8981,  1.0000],\n",
       "        [ 0.8981, -1.0000],\n",
       "        [ 0.9950,  1.0000],\n",
       "        [ 0.9950, -1.0000],\n",
       "        [ 0.0787,  1.0000],\n",
       "        [ 0.0787, -1.0000],\n",
       "        [ 0.3847,  1.0000],\n",
       "        [ 0.3847, -1.0000],\n",
       "        [ 0.1807,  1.0000],\n",
       "        [ 0.1807, -1.0000],\n",
       "        [ 0.3521,  1.0000],\n",
       "        [ 0.3521, -1.0000],\n",
       "        [ 0.2875,  1.0000],\n",
       "        [ 0.2875, -1.0000],\n",
       "        [ 0.1745,  1.0000],\n",
       "        [ 0.1745, -1.0000],\n",
       "        [ 0.7641,  1.0000],\n",
       "        [ 0.7641, -1.0000],\n",
       "        [ 0.4963,  1.0000],\n",
       "        [ 0.4963, -1.0000],\n",
       "        [ 0.9192,  1.0000],\n",
       "        [ 0.9192, -1.0000],\n",
       "        [ 0.0326,  1.0000],\n",
       "        [ 0.0326, -1.0000],\n",
       "        [ 0.0670,  1.0000],\n",
       "        [ 0.0670, -1.0000],\n",
       "        [ 0.4033,  1.0000],\n",
       "        [ 0.4033, -1.0000],\n",
       "        [ 0.0803,  1.0000],\n",
       "        [ 0.0803, -1.0000],\n",
       "        [ 0.2627,  1.0000],\n",
       "        [ 0.2627, -1.0000],\n",
       "        [ 0.9860,  1.0000],\n",
       "        [ 0.9860, -1.0000],\n",
       "        [ 0.2090,  1.0000],\n",
       "        [ 0.2090, -1.0000],\n",
       "        [ 0.1981,  1.0000],\n",
       "        [ 0.1981, -1.0000],\n",
       "        [ 0.5736,  1.0000],\n",
       "        [ 0.5736, -1.0000],\n",
       "        [ 0.4980,  1.0000],\n",
       "        [ 0.4980, -1.0000],\n",
       "        [ 0.5804,  1.0000],\n",
       "        [ 0.5804, -1.0000],\n",
       "        [ 0.3767,  1.0000],\n",
       "        [ 0.3767, -1.0000],\n",
       "        [ 0.8268,  1.0000],\n",
       "        [ 0.8268, -1.0000],\n",
       "        [ 0.1386,  1.0000],\n",
       "        [ 0.1386, -1.0000],\n",
       "        [ 0.4284,  1.0000],\n",
       "        [ 0.4284, -1.0000],\n",
       "        [ 0.6898,  1.0000],\n",
       "        [ 0.6898, -1.0000],\n",
       "        [ 0.8682,  1.0000],\n",
       "        [ 0.8682, -1.0000],\n",
       "        [ 0.3696,  1.0000],\n",
       "        [ 0.3696, -1.0000],\n",
       "        [ 0.5677,  1.0000],\n",
       "        [ 0.5677, -1.0000],\n",
       "        [ 0.0691,  1.0000],\n",
       "        [ 0.0691, -1.0000],\n",
       "        [ 0.1703,  1.0000],\n",
       "        [ 0.1703, -1.0000],\n",
       "        [ 0.0691,  1.0000],\n",
       "        [ 0.0691, -1.0000],\n",
       "        [ 0.7279,  1.0000],\n",
       "        [ 0.7279, -1.0000],\n",
       "        [ 0.2881,  1.0000],\n",
       "        [ 0.2881, -1.0000],\n",
       "        [ 0.7237,  1.0000],\n",
       "        [ 0.7237, -1.0000],\n",
       "        [ 0.0664,  1.0000],\n",
       "        [ 0.0664, -1.0000],\n",
       "        [ 0.8625,  1.0000],\n",
       "        [ 0.8625, -1.0000],\n",
       "        [ 0.8355,  1.0000],\n",
       "        [ 0.8355, -1.0000],\n",
       "        [ 0.0889,  1.0000],\n",
       "        [ 0.0889, -1.0000],\n",
       "        [ 0.0238,  1.0000],\n",
       "        [ 0.0238, -1.0000],\n",
       "        [ 0.0563,  1.0000],\n",
       "        [ 0.0563, -1.0000],\n",
       "        [ 0.8536,  1.0000],\n",
       "        [ 0.8536, -1.0000],\n",
       "        [ 0.2347,  1.0000],\n",
       "        [ 0.2347, -1.0000],\n",
       "        [ 0.5483,  1.0000],\n",
       "        [ 0.5483, -1.0000],\n",
       "        [ 0.4262,  1.0000],\n",
       "        [ 0.4262, -1.0000],\n",
       "        [ 0.7955,  1.0000],\n",
       "        [ 0.7955, -1.0000]], dtype=torch.float64)"
      ]
     },
     "execution_count": 56,
     "metadata": {},
     "output_type": "execute_result"
    }
   ],
   "source": [
    "next(_iter)[\"boundary\"]"
   ]
  },
  {
   "cell_type": "code",
   "execution_count": null,
   "metadata": {},
   "outputs": [],
   "source": []
  }
 ],
 "metadata": {
  "kernelspec": {
   "display_name": "Python 3",
   "language": "python",
   "name": "python3"
  },
  "language_info": {
   "codemirror_mode": {
    "name": "ipython",
    "version": 3
   },
   "file_extension": ".py",
   "mimetype": "text/x-python",
   "name": "python",
   "nbconvert_exporter": "python",
   "pygments_lexer": "ipython3",
   "version": "3.11.4"
  },
  "orig_nbformat": 4
 },
 "nbformat": 4,
 "nbformat_minor": 2
}
