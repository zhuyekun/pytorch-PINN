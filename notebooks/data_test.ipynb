{
 "cells": [
  {
   "cell_type": "code",
   "execution_count": 38,
   "metadata": {},
   "outputs": [],
   "source": [
    "import sys\n",
    "sys.path.append('../')\n",
    "\n",
    "from src.dataset import DataGenerator1D\n",
    "from src.config import get_config\n",
    "from torch.utils.data import DataLoader"
   ]
  },
  {
   "cell_type": "code",
   "execution_count": 39,
   "metadata": {},
   "outputs": [],
   "source": [
    "config = get_config()"
   ]
  },
  {
   "cell_type": "code",
   "execution_count": 40,
   "metadata": {},
   "outputs": [],
   "source": [
    "dataset = DataGenerator1D(data_cfg=config.data_config.sample_config)"
   ]
  },
  {
   "cell_type": "code",
   "execution_count": 41,
   "metadata": {},
   "outputs": [],
   "source": [
    "d = next(dataset)"
   ]
  },
  {
   "cell_type": "code",
   "execution_count": 42,
   "metadata": {},
   "outputs": [],
   "source": [
    "dataloader = DataLoader(dataset, batch_size=None, num_workers=1)"
   ]
  },
  {
   "cell_type": "code",
   "execution_count": 43,
   "metadata": {},
   "outputs": [],
   "source": [
    "_iter = iter(dataloader)\n",
    "batch = next(_iter)"
   ]
  },
  {
   "cell_type": "code",
   "execution_count": 44,
   "metadata": {},
   "outputs": [
    {
     "data": {
      "text/plain": [
       "{'t': tensor([0.9148, 0.3270, 0.5793, 0.8775, 0.7730, 0.0407, 0.9428, 0.0466, 0.5888,\n",
       "         0.5754, 0.7864, 0.1484, 0.1794, 0.7521, 0.1495, 0.4694, 0.7316, 0.6512,\n",
       "         0.2106, 0.3040, 0.9690, 0.4487, 0.0445, 0.2196, 0.3424, 0.9995, 0.3027,\n",
       "         0.0264, 0.5129, 0.0836, 0.2741, 0.9924, 0.7046, 0.0507, 0.4487, 0.1716,\n",
       "         0.1229, 0.5871, 0.5057, 0.7429, 0.8923, 0.2467, 0.9230, 0.5180, 0.2588,\n",
       "         0.8458, 0.0355, 0.5595, 0.7216, 0.2800, 0.8635, 0.2403, 0.8399, 0.0785,\n",
       "         0.1599, 0.3810, 0.8541, 0.1446, 0.8754, 0.2297, 0.4525, 0.3527, 0.1181,\n",
       "         0.9443, 0.4382, 0.6903, 0.5753, 0.5017, 0.6166, 0.8983, 0.6993, 0.5325,\n",
       "         0.6452, 0.6064, 0.4331, 0.6248, 0.4436, 0.7576, 0.9689, 0.9599, 0.8207,\n",
       "         0.6018, 0.7493, 0.1780, 0.4790, 0.2573, 0.0035, 0.9667, 0.8638, 0.5137,\n",
       "         0.2542, 0.6930, 0.4348, 0.8033, 0.9995, 0.3491, 0.2444, 0.2674, 0.0933,\n",
       "         0.3940], dtype=torch.float64),\n",
       " 'x': tensor([ 1., -1.,  1., -1.,  1., -1., -1., -1.,  1.,  1., -1., -1.,  1.,  1.,\n",
       "         -1., -1.,  1., -1., -1., -1., -1.,  1., -1., -1., -1.,  1., -1., -1.,\n",
       "         -1.,  1.,  1., -1., -1., -1., -1.,  1.,  1., -1., -1., -1.,  1.,  1.,\n",
       "         -1., -1., -1., -1., -1., -1.,  1., -1., -1.,  1.,  1.,  1.,  1.,  1.,\n",
       "         -1., -1., -1.,  1.,  1.,  1.,  1., -1.,  1.,  1.,  1.,  1., -1.,  1.,\n",
       "         -1., -1., -1., -1.,  1.,  1., -1.,  1., -1., -1.,  1., -1.,  1.,  1.,\n",
       "          1., -1.,  1., -1.,  1.,  1., -1., -1., -1., -1., -1., -1.,  1.,  1.,\n",
       "         -1., -1.], dtype=torch.float64)}"
      ]
     },
     "execution_count": 44,
     "metadata": {},
     "output_type": "execute_result"
    }
   ],
   "source": [
    "next(_iter)[\"boundary\"]"
   ]
  },
  {
   "cell_type": "code",
   "execution_count": 45,
   "metadata": {},
   "outputs": [],
   "source": [
    "def set_requires_grad(tensor_dict, requires_grad=True, device=\"cuda\"):\n",
    "    \"\"\"\n",
    "    Set the requires_grad attribute of all tensors in a nested dictionary.\n",
    "\n",
    "    Args:\n",
    "        tensor_dict (dict): A nested dictionary containing tensors.\n",
    "        requires_grad (bool): Whether to require gradient computation or not.\n",
    "        device (str): The device to move tensors to.\n",
    "    \"\"\"\n",
    "    _tensor_dict = {}\n",
    "    for k, v in tensor_dict.items():\n",
    "        if isinstance(v, dict):\n",
    "            _tensor_dict[k] = set_requires_grad(v, requires_grad, device=device)\n",
    "        else:\n",
    "            _tensor_dict[k] = v.clone().detach().requires_grad_(True).to(device)\n",
    "            # print(f\"Set {k} to require gradient: {v.requires_grad}\")\n",
    "    del tensor_dict\n",
    "    return _tensor_dict"
   ]
  },
  {
   "cell_type": "code",
   "execution_count": 47,
   "metadata": {},
   "outputs": [],
   "source": [
    "b = set_requires_grad(batch, requires_grad=True)"
   ]
  },
  {
   "cell_type": "code",
   "execution_count": null,
   "metadata": {},
   "outputs": [],
   "source": []
  }
 ],
 "metadata": {
  "kernelspec": {
   "display_name": "Python 3",
   "language": "python",
   "name": "python3"
  },
  "language_info": {
   "codemirror_mode": {
    "name": "ipython",
    "version": 3
   },
   "file_extension": ".py",
   "mimetype": "text/x-python",
   "name": "python",
   "nbconvert_exporter": "python",
   "pygments_lexer": "ipython3",
   "version": "3.11.4"
  },
  "orig_nbformat": 4
 },
 "nbformat": 4,
 "nbformat_minor": 2
}
