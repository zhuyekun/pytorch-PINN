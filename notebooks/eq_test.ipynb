{
 "cells": [
  {
   "cell_type": "code",
   "execution_count": 2,
   "metadata": {},
   "outputs": [],
   "source": [
    "import sys\n",
    "sys.path.append('../src')\n",
    "\n",
    "%load_ext autoreload\n",
    "%autoreload 2\n",
    "\n",
    "import numpy as np\n",
    "from equation.burgers import Burgers1D, InitialCondition, BoundaryCondition\n",
    "import torch\n",
    "from equation.derivative import diff"
   ]
  },
  {
   "cell_type": "code",
   "execution_count": 3,
   "metadata": {},
   "outputs": [],
   "source": [
    "eq = Burgers1D(nu=1)\n",
    "ic = InitialCondition()\n",
    "bc = BoundaryCondition()"
   ]
  },
  {
   "cell_type": "code",
   "execution_count": 65,
   "metadata": {},
   "outputs": [],
   "source": [
    "import torch.nn as nn\n",
    "x = torch.tensor([[1.,2.],[3,4]], requires_grad=True)\n",
    "u = nn.Linear(2, 1)(x)"
   ]
  },
  {
   "cell_type": "code",
   "execution_count": 68,
   "metadata": {},
   "outputs": [],
   "source": [
    "u_t = torch.autograd.grad(\n",
    "        u, x, grad_outputs=torch.ones_like(u), create_graph=True, allow_unused=True\n",
    "    )[0]"
   ]
  },
  {
   "cell_type": "code",
   "execution_count": 69,
   "metadata": {},
   "outputs": [
    {
     "data": {
      "text/plain": [
       "tensor([[-0.6731,  0.5279],\n",
       "        [-0.6731,  0.5279]], grad_fn=<MmBackward0>)"
      ]
     },
     "execution_count": 69,
     "metadata": {},
     "output_type": "execute_result"
    }
   ],
   "source": [
    "u_t"
   ]
  },
  {
   "cell_type": "code",
   "execution_count": 35,
   "metadata": {},
   "outputs": [],
   "source": [
    "input = {\"interior\": torch.ones(10, 2), \"initial\": torch.ones(10, 2)*2, \"boundary\": torch.ones(10, 2)}\n",
    "input = {k: v.requires_grad_(True) for k, v in input.items()}"
   ]
  },
  {
   "cell_type": "code",
   "execution_count": 15,
   "metadata": {},
   "outputs": [],
   "source": [
    "def func(input):\n",
    "    return torch.sum(input**2, axis=-1)"
   ]
  },
  {
   "cell_type": "code",
   "execution_count": 36,
   "metadata": {},
   "outputs": [],
   "source": [
    "u = {k: func(v) for k, v in input.items()}"
   ]
  },
  {
   "cell_type": "code",
   "execution_count": 37,
   "metadata": {},
   "outputs": [
    {
     "data": {
      "text/plain": [
       "((<PowBackward0 at 0x7f9cdc543730>, 0),)"
      ]
     },
     "execution_count": 37,
     "metadata": {},
     "output_type": "execute_result"
    }
   ],
   "source": [
    "u[\"interior\"].grad_fn.next_functions"
   ]
  },
  {
   "cell_type": "code",
   "execution_count": 32,
   "metadata": {},
   "outputs": [],
   "source": [
    "input[\"interior\"].grad_fn"
   ]
  },
  {
   "cell_type": "code",
   "execution_count": 38,
   "metadata": {},
   "outputs": [],
   "source": [
    "t = input[\"interior\"][:, 0]"
   ]
  },
  {
   "cell_type": "code",
   "execution_count": 39,
   "metadata": {},
   "outputs": [],
   "source": [
    "u_t = diff(u[\"interior\"], t)"
   ]
  },
  {
   "cell_type": "code",
   "execution_count": 40,
   "metadata": {},
   "outputs": [
    {
     "name": "stdout",
     "output_type": "stream",
     "text": [
      "None\n"
     ]
    }
   ],
   "source": [
    "print(u_t)"
   ]
  },
  {
   "cell_type": "code",
   "execution_count": 22,
   "metadata": {},
   "outputs": [
    {
     "name": "stdout",
     "output_type": "stream",
     "text": [
      "tensor([1., 1., 1., 1., 1., 1., 1., 1., 1., 1.], grad_fn=<SelectBackward0>)\n",
      "None\n"
     ]
    },
    {
     "ename": "TypeError",
     "evalue": "ones_like(): argument 'input' (position 1) must be Tensor, not NoneType",
     "output_type": "error",
     "traceback": [
      "\u001b[0;31m---------------------------------------------------------------------------\u001b[0m",
      "\u001b[0;31mTypeError\u001b[0m                                 Traceback (most recent call last)",
      "Cell \u001b[0;32mIn[22], line 1\u001b[0m\n\u001b[0;32m----> 1\u001b[0m eq\u001b[39m.\u001b[39;49mresidual(u, \u001b[39minput\u001b[39;49m)\n",
      "File \u001b[0;32m/workspaces/pytorch-PINN/notebooks/../src/equation/burgers.py:27\u001b[0m, in \u001b[0;36mBurgers1D.residual\u001b[0;34m(self, u, inputs)\u001b[0m\n\u001b[1;32m     25\u001b[0m u_x \u001b[39m=\u001b[39m diff(u[\u001b[39m\"\u001b[39m\u001b[39minterior\u001b[39m\u001b[39m\"\u001b[39m], x)\n\u001b[1;32m     26\u001b[0m \u001b[39mprint\u001b[39m(u_x)\n\u001b[0;32m---> 27\u001b[0m u_xx \u001b[39m=\u001b[39m diff(u_x, x)\n\u001b[1;32m     28\u001b[0m \u001b[39mreturn\u001b[39;00m u_t \u001b[39m+\u001b[39m u[\u001b[39m\"\u001b[39m\u001b[39minterior\u001b[39m\u001b[39m\"\u001b[39m] \u001b[39m*\u001b[39m u_x \u001b[39m-\u001b[39m \u001b[39mself\u001b[39m\u001b[39m.\u001b[39mnu \u001b[39m*\u001b[39m u_xx\n",
      "File \u001b[0;32m/workspaces/pytorch-PINN/notebooks/../src/equation/derivative.py:6\u001b[0m, in \u001b[0;36mdiff\u001b[0;34m(u, x)\u001b[0m\n\u001b[1;32m      4\u001b[0m \u001b[39mdef\u001b[39;00m \u001b[39mdiff\u001b[39m(u, x):\n\u001b[1;32m      5\u001b[0m     grad \u001b[39m=\u001b[39m torch\u001b[39m.\u001b[39mautograd\u001b[39m.\u001b[39mgrad(\n\u001b[0;32m----> 6\u001b[0m         u, x, grad_outputs\u001b[39m=\u001b[39mtorch\u001b[39m.\u001b[39;49mones_like(u), create_graph\u001b[39m=\u001b[39m\u001b[39mTrue\u001b[39;00m, allow_unused\u001b[39m=\u001b[39m\u001b[39mTrue\u001b[39;00m\n\u001b[1;32m      7\u001b[0m     )[\u001b[39m0\u001b[39m]\n\u001b[1;32m      8\u001b[0m     \u001b[39mreturn\u001b[39;00m grad\n",
      "\u001b[0;31mTypeError\u001b[0m: ones_like(): argument 'input' (position 1) must be Tensor, not NoneType"
     ]
    }
   ],
   "source": [
    "eq.residual(u, input)"
   ]
  },
  {
   "cell_type": "code",
   "execution_count": 7,
   "metadata": {},
   "outputs": [
    {
     "data": {
      "text/plain": [
       "tensor([5., 5., 5., 5., 5., 5., 5., 5., 5., 5.], grad_fn=<SubBackward0>)"
      ]
     },
     "execution_count": 7,
     "metadata": {},
     "output_type": "execute_result"
    }
   ],
   "source": [
    "ic.residual(u, t, x)"
   ]
  },
  {
   "cell_type": "code",
   "execution_count": 8,
   "metadata": {},
   "outputs": [
    {
     "data": {
      "text/plain": [
       "tensor([5., 5., 5., 5., 5., 5., 5., 5., 5., 5.], grad_fn=<SubBackward0>)"
      ]
     },
     "execution_count": 8,
     "metadata": {},
     "output_type": "execute_result"
    }
   ],
   "source": [
    "bc.residual(u, t, x)"
   ]
  },
  {
   "cell_type": "code",
   "execution_count": 9,
   "metadata": {},
   "outputs": [
    {
     "data": {
      "text/plain": [
       "tensor(400., grad_fn=<MulBackward0>)"
      ]
     },
     "execution_count": 9,
     "metadata": {},
     "output_type": "execute_result"
    }
   ],
   "source": [
    "eq.loss(u, t, x)"
   ]
  },
  {
   "cell_type": "code",
   "execution_count": 10,
   "metadata": {},
   "outputs": [
    {
     "ename": "AttributeError",
     "evalue": "'BoundaryCondition' object has no attribute 'loss_weight'",
     "output_type": "error",
     "traceback": [
      "\u001b[0;31m---------------------------------------------------------------------------\u001b[0m",
      "\u001b[0;31mAttributeError\u001b[0m                            Traceback (most recent call last)",
      "Cell \u001b[0;32mIn[10], line 1\u001b[0m\n\u001b[0;32m----> 1\u001b[0m bc\u001b[39m.\u001b[39;49mloss(u, t, x)\n",
      "File \u001b[0;32m/workspaces/pytorch-PINN/notebooks/../src/equation/base.py:13\u001b[0m, in \u001b[0;36mConstraintBase.loss\u001b[0;34m(self, *args)\u001b[0m\n\u001b[1;32m     12\u001b[0m \u001b[39mdef\u001b[39;00m \u001b[39mloss\u001b[39m(\u001b[39mself\u001b[39m, \u001b[39m*\u001b[39margs):\n\u001b[0;32m---> 13\u001b[0m     \u001b[39mreturn\u001b[39;00m torch\u001b[39m.\u001b[39mmean(\u001b[39mself\u001b[39m\u001b[39m.\u001b[39mresidual(\u001b[39m*\u001b[39margs) \u001b[39m*\u001b[39m\u001b[39m*\u001b[39m \u001b[39m2\u001b[39m) \u001b[39m*\u001b[39m \u001b[39mself\u001b[39;49m\u001b[39m.\u001b[39;49mloss_weight\n",
      "\u001b[0;31mAttributeError\u001b[0m: 'BoundaryCondition' object has no attribute 'loss_weight'"
     ]
    }
   ],
   "source": [
    "bc.loss(u, t, x)"
   ]
  },
  {
   "cell_type": "code",
   "execution_count": null,
   "metadata": {},
   "outputs": [],
   "source": []
  }
 ],
 "metadata": {
  "kernelspec": {
   "display_name": "Python 3",
   "language": "python",
   "name": "python3"
  },
  "language_info": {
   "codemirror_mode": {
    "name": "ipython",
    "version": 3
   },
   "file_extension": ".py",
   "mimetype": "text/x-python",
   "name": "python",
   "nbconvert_exporter": "python",
   "pygments_lexer": "ipython3",
   "version": "3.11.4"
  },
  "orig_nbformat": 4
 },
 "nbformat": 4,
 "nbformat_minor": 2
}
