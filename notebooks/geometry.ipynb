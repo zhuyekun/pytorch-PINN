{
 "cells": [
  {
   "cell_type": "code",
   "execution_count": 5,
   "metadata": {},
   "outputs": [
    {
     "name": "stdout",
     "output_type": "stream",
     "text": [
      "The autoreload extension is already loaded. To reload it, use:\n",
      "  %reload_ext autoreload\n"
     ]
    }
   ],
   "source": [
    "import sys\n",
    "sys.path.append('../')\n",
    "from src.geometry import Rectangle2D, Rectangle1D\n",
    "\n",
    "%load_ext autoreload\n",
    "%autoreload 2"
   ]
  },
  {
   "cell_type": "code",
   "execution_count": null,
   "metadata": {},
   "outputs": [],
   "source": [
    "domain = Rectangle2D(xmin=0, xmax=1, ymin=0, ymax=1)"
   ]
  },
  {
   "cell_type": "code",
   "execution_count": null,
   "metadata": {},
   "outputs": [
    {
     "data": {
      "text/plain": [
       "array([[0.        , 0.51744103],\n",
       "       [0.        , 0.25457242],\n",
       "       [0.22570073, 1.        ],\n",
       "       [0.63285672, 1.        ],\n",
       "       [1.        , 0.82489852],\n",
       "       [1.        , 0.77369496],\n",
       "       [0.65065467, 0.        ],\n",
       "       [0.07823982, 0.        ],\n",
       "       [0.67589075, 0.        ],\n",
       "       [0.1742362 , 0.        ]])"
      ]
     },
     "execution_count": 19,
     "metadata": {},
     "output_type": "execute_result"
    }
   ],
   "source": [
    "domain.sample_boundary(num_samples=10)"
   ]
  },
  {
   "cell_type": "code",
   "execution_count": null,
   "metadata": {},
   "outputs": [
    {
     "data": {
      "text/plain": [
       "array([[0.97645134, 0.19145632],\n",
       "       [0.02497691, 0.96925898],\n",
       "       [0.58694672, 0.95604308],\n",
       "       [0.13500519, 0.69982431],\n",
       "       [0.33990521, 0.22260484],\n",
       "       [0.15664522, 0.29556151],\n",
       "       [0.06072115, 0.98535785],\n",
       "       [0.10581634, 0.43679703],\n",
       "       [0.69830809, 0.99049594],\n",
       "       [0.71980578, 0.55075793]])"
      ]
     },
     "execution_count": 22,
     "metadata": {},
     "output_type": "execute_result"
    }
   ],
   "source": [
    "domain.sample_interior(num_samples=10)"
   ]
  },
  {
   "cell_type": "code",
   "execution_count": 6,
   "metadata": {},
   "outputs": [],
   "source": [
    "domain = Rectangle1D(xmin=0, xmax=1)"
   ]
  },
  {
   "cell_type": "code",
   "execution_count": 7,
   "metadata": {},
   "outputs": [
    {
     "data": {
      "text/plain": [
       "array([0.76271837, 0.68970844, 0.20716566, 0.72175351, 0.77434928,\n",
       "       0.55846459, 0.39078772, 0.93046871, 0.17589393, 0.15988198])"
      ]
     },
     "execution_count": 7,
     "metadata": {},
     "output_type": "execute_result"
    }
   ],
   "source": [
    "domain.sample_interior(num_samples=10)"
   ]
  },
  {
   "cell_type": "code",
   "execution_count": null,
   "metadata": {},
   "outputs": [],
   "source": []
  }
 ],
 "metadata": {
  "kernelspec": {
   "display_name": "Python 3",
   "language": "python",
   "name": "python3"
  },
  "language_info": {
   "codemirror_mode": {
    "name": "ipython",
    "version": 3
   },
   "file_extension": ".py",
   "mimetype": "text/x-python",
   "name": "python",
   "nbconvert_exporter": "python",
   "pygments_lexer": "ipython3",
   "version": "3.11.4"
  },
  "orig_nbformat": 4
 },
 "nbformat": 4,
 "nbformat_minor": 2
}
