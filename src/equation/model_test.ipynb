{
 "cells": [
  {
   "cell_type": "code",
   "execution_count": 3,
   "metadata": {},
   "outputs": [],
   "source": [
    "import torch\n",
    "import torch.nn as nn"
   ]
  },
  {
   "cell_type": "code",
   "execution_count": 11,
   "metadata": {},
   "outputs": [],
   "source": [
    "class ResidualBlock(nn.Module):\n",
    "    def __init__(self, units, activation, name=\"residual_block\", **kwargs):\n",
    "        super(ResidualBlock, self).__init__()\n",
    "        self._units = units\n",
    "        assert self._units[0] == self._units[-1], \"First and last units must be the same\"\n",
    "\n",
    "        self._activation = activation\n",
    "\n",
    "        self._layers = nn.ModuleList(\n",
    "            [nn.Linear(units[i], units[i+1]) for i in range(len(units)-1)]\n",
    "        )\n",
    "\n",
    "    def forward(self, inputs):\n",
    "        residual = inputs\n",
    "        for h_i in self._layers:\n",
    "            inputs = self._activation(h_i(inputs))\n",
    "        residual = residual + inputs\n",
    "        return residual"
   ]
  },
  {
   "cell_type": "code",
   "execution_count": 13,
   "metadata": {},
   "outputs": [],
   "source": [
    "resnet = ResidualBlock([1, 2, 3, 1], nn.ReLU())"
   ]
  },
  {
   "cell_type": "code",
   "execution_count": 14,
   "metadata": {},
   "outputs": [],
   "source": [
    "inputs = torch.randn(10, 1)"
   ]
  },
  {
   "cell_type": "code",
   "execution_count": 15,
   "metadata": {},
   "outputs": [],
   "source": [
    "inputs = resnet(inputs)"
   ]
  },
  {
   "cell_type": "code",
   "execution_count": null,
   "metadata": {},
   "outputs": [],
   "source": []
  }
 ],
 "metadata": {
  "kernelspec": {
   "display_name": "Python 3",
   "language": "python",
   "name": "python3"
  },
  "language_info": {
   "codemirror_mode": {
    "name": "ipython",
    "version": 3
   },
   "file_extension": ".py",
   "mimetype": "text/x-python",
   "name": "python",
   "nbconvert_exporter": "python",
   "pygments_lexer": "ipython3",
   "version": "3.11.4"
  },
  "orig_nbformat": 4
 },
 "nbformat": 4,
 "nbformat_minor": 2
}
